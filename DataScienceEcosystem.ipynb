{
 "cells": [
  {
   "cell_type": "markdown",
   "id": "fac8255a-926f-4eda-8107-2d2165fb8857",
   "metadata": {},
   "source": [
    "# Data Science Tools and Ecosystem"
   ]
  },
  {
   "cell_type": "markdown",
   "id": "5e115cff-fbc8-401d-8039-7d5eda699af9",
   "metadata": {},
   "source": [
    "In this notebook, Data Science Tools and Ecosystem are summarized."
   ]
  },
  {
   "cell_type": "markdown",
   "id": "b8bca780-cfe9-4cf2-9c52-54a8a738582b",
   "metadata": {},
   "source": [
    "**Objectives:**\n",
    "\n",
    "* Descriptions for popular languages for Data Science\n",
    "\n",
    "*  Python is renowned for its readability, simplicity, and an extensive ecosystem of libraries and frameworks tailored for data science.\n",
    "*  R is specifically designed for statistical analysis and data visualization, making it a favorite among statisticians and data scientists.\n",
    "*  SQL (Structured Query Language) is essential for managing and querying relational databases. It is crucial for data extraction and manipulation.\n"
   ]
  },
  {
   "cell_type": "markdown",
   "id": "607f388a-c26e-4e4e-b570-b37b883fa3e3",
   "metadata": {},
   "source": [
    "Some of the popular languages that Data Scientists use are:\n",
    "1. Python\n",
    "2. R\n",
    "3. Julia"
   ]
  },
  {
   "cell_type": "markdown",
   "id": "bda94cde-408e-43d9-851e-148665530d3c",
   "metadata": {},
   "source": [
    "Some of the commonly used libraries used by Data Scientists include:\n",
    "1. ggplot\n",
    "2. pandas\n",
    "3. scikit-learn"
   ]
  },
  {
   "cell_type": "markdown",
   "id": "717a14b4-a76e-431e-a060-0c76d45c6c24",
   "metadata": {},
   "source": [
    "\n",
    "|Data Science Tools |\n",
    "| ------ | \n",
    "| Jupyter Notebook |\n",
    "| RStudio | \n",
    "| VS Code (Visual Studio Code) | \n"
   ]
  },
  {
   "cell_type": "markdown",
   "id": "0d5a5eb7-3baa-42ee-8fc3-6ec6fa8cef35",
   "metadata": {
    "tags": []
   },
   "source": [
    "### Below are a few examples of evaluating arithmetic expressions in Python"
   ]
  },
  {
   "cell_type": "code",
   "execution_count": 3,
   "id": "0e1fd589-e11a-4205-8634-34a5e5c0f63c",
   "metadata": {
    "tags": []
   },
   "outputs": [
    {
     "data": {
      "text/plain": [
       "17"
      ]
     },
     "execution_count": 3,
     "metadata": {},
     "output_type": "execute_result"
    }
   ],
   "source": [
    "#This a simple arithmetic expression to mutiply then add integers\n",
    "(3*4)+5"
   ]
  },
  {
   "cell_type": "code",
   "execution_count": 4,
   "id": "2c82b09e-8094-491a-b54d-0c5cb909172c",
   "metadata": {
    "tags": []
   },
   "outputs": [
    {
     "data": {
      "text/plain": [
       "3.3333333333333335"
      ]
     },
     "execution_count": 4,
     "metadata": {},
     "output_type": "execute_result"
    }
   ],
   "source": [
    "# This will convert 200 minutes to hours by diving by 60\n",
    "200/60"
   ]
  },
  {
   "cell_type": "markdown",
   "id": "35cb23b0-defc-4396-b26c-dba3076d94a8",
   "metadata": {},
   "source": [
    "## Author\n",
    "Omar García Flores"
   ]
  },
  {
   "cell_type": "code",
   "execution_count": null,
   "id": "cc2b4e03-4948-4abe-9194-0b65cce86f08",
   "metadata": {},
   "outputs": [],
   "source": []
  }
 ],
 "metadata": {
  "kernelspec": {
   "display_name": "Python",
   "language": "python",
   "name": "conda-env-python-py"
  },
  "language_info": {
   "codemirror_mode": {
    "name": "ipython",
    "version": 3
   },
   "file_extension": ".py",
   "mimetype": "text/x-python",
   "name": "python",
   "nbconvert_exporter": "python",
   "pygments_lexer": "ipython3",
   "version": "3.7.12"
  }
 },
 "nbformat": 4,
 "nbformat_minor": 5
}
